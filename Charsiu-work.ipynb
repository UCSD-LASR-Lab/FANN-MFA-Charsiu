{
 "cells": [
  {
   "cell_type": "code",
   "execution_count": 3,
   "id": "b4fd8d6c",
   "metadata": {},
   "outputs": [
    {
     "ename": "ModuleNotFoundError",
     "evalue": "No module named 'g2p_en'",
     "output_type": "error",
     "traceback": [
      "\u001b[0;31m---------------------------------------------------------------------------\u001b[0m",
      "\u001b[0;31mModuleNotFoundError\u001b[0m                       Traceback (most recent call last)",
      "Cell \u001b[0;32mIn[3], line 10\u001b[0m\n\u001b[1;32m      6\u001b[0m os\u001b[38;5;241m.\u001b[39mchdir(charsiu_dir)\n\u001b[1;32m      8\u001b[0m sys\u001b[38;5;241m.\u001b[39mpath\u001b[38;5;241m.\u001b[39mappend(\u001b[38;5;124m'\u001b[39m\u001b[38;5;132;01m%s\u001b[39;00m\u001b[38;5;124m/src/\u001b[39m\u001b[38;5;124m'\u001b[39m \u001b[38;5;241m%\u001b[39m charsiu_dir)\n\u001b[0;32m---> 10\u001b[0m \u001b[38;5;28;01mfrom\u001b[39;00m \u001b[38;5;21;01mCharsiu\u001b[39;00m \u001b[38;5;28;01mimport\u001b[39;00m charsiu_forced_aligner\n\u001b[1;32m     12\u001b[0m \u001b[38;5;28;01mdef\u001b[39;00m \u001b[38;5;21malign_files_in_folder\u001b[39m(folder_path, output_folder):\n\u001b[1;32m     13\u001b[0m     \u001b[38;5;66;03m# List all files in the specified folder recursively\u001b[39;00m\n\u001b[1;32m     14\u001b[0m     all_files \u001b[38;5;241m=\u001b[39m \u001b[38;5;124m'\u001b[39m\u001b[38;5;124m/Users/cogsci-lasrlab1/Downloads/MFA_data/AP\u001b[39m\u001b[38;5;124m'\u001b[39m\n",
      "File \u001b[0;32m~/Downloads/charsiu-main/src/Charsiu.py:13\u001b[0m\n\u001b[1;32m     11\u001b[0m \u001b[38;5;28;01mfrom\u001b[39;00m \u001b[38;5;21;01mmodels\u001b[39;00m \u001b[38;5;28;01mimport\u001b[39;00m Wav2Vec2ForAttentionAlignment, Wav2Vec2ForFrameClassification, Wav2Vec2ForCTC\n\u001b[1;32m     12\u001b[0m \u001b[38;5;28;01mfrom\u001b[39;00m \u001b[38;5;21;01mutils\u001b[39;00m \u001b[38;5;28;01mimport\u001b[39;00m seq2duration,forced_align,duration2textgrid,word2textgrid\n\u001b[0;32m---> 13\u001b[0m \u001b[38;5;28;01mfrom\u001b[39;00m \u001b[38;5;21;01mprocessors\u001b[39;00m \u001b[38;5;28;01mimport\u001b[39;00m CharsiuPreprocessor_zh, CharsiuPreprocessor_en\n\u001b[1;32m     15\u001b[0m processors \u001b[38;5;241m=\u001b[39m {\u001b[38;5;124m'\u001b[39m\u001b[38;5;124mzh\u001b[39m\u001b[38;5;124m'\u001b[39m:CharsiuPreprocessor_zh,\n\u001b[1;32m     16\u001b[0m               \u001b[38;5;124m'\u001b[39m\u001b[38;5;124men\u001b[39m\u001b[38;5;124m'\u001b[39m:CharsiuPreprocessor_en}\n\u001b[1;32m     18\u001b[0m \u001b[38;5;28;01mclass\u001b[39;00m \u001b[38;5;21;01mcharsiu_aligner\u001b[39;00m:\n",
      "File \u001b[0;32m~/Downloads/charsiu-main/src/processors.py:15\u001b[0m\n\u001b[1;32m     12\u001b[0m \u001b[38;5;28;01mfrom\u001b[39;00m \u001b[38;5;21;01mnltk\u001b[39;00m\u001b[38;5;21;01m.\u001b[39;00m\u001b[38;5;21;01mtokenize\u001b[39;00m \u001b[38;5;28;01mimport\u001b[39;00m TweetTokenizer\n\u001b[1;32m     13\u001b[0m word_tokenize \u001b[38;5;241m=\u001b[39m TweetTokenizer()\u001b[38;5;241m.\u001b[39mtokenize\n\u001b[0;32m---> 15\u001b[0m \u001b[38;5;28;01mfrom\u001b[39;00m \u001b[38;5;21;01mg2p_en\u001b[39;00m \u001b[38;5;28;01mimport\u001b[39;00m G2p\n\u001b[1;32m     16\u001b[0m \u001b[38;5;28;01mfrom\u001b[39;00m \u001b[38;5;21;01mg2p_en\u001b[39;00m\u001b[38;5;21;01m.\u001b[39;00m\u001b[38;5;21;01mexpand\u001b[39;00m \u001b[38;5;28;01mimport\u001b[39;00m normalize_numbers \n\u001b[1;32m     17\u001b[0m \u001b[38;5;28;01mfrom\u001b[39;00m \u001b[38;5;21;01mg2pM\u001b[39;00m \u001b[38;5;28;01mimport\u001b[39;00m G2pM\n",
      "\u001b[0;31mModuleNotFoundError\u001b[0m: No module named 'g2p_en'"
     ]
    }
   ],
   "source": [
    "import os\n",
    "import soundfile\n",
    "import sys\n",
    "# change this path to where you saved the charsiu package\n",
    "charsiu_dir = '/Users/cogsci-lasrlab1/Downloads/charsiu-main'\n",
    "os.chdir(charsiu_dir)\n",
    "\n",
    "sys.path.append('%s/src/' % charsiu_dir)\n",
    "\n",
    "from Charsiu import charsiu_forced_aligner\n",
    "\n",
    "def align_files_in_folder(folder_path, output_folder):\n",
    "    # List all files in the specified folder recursively\n",
    "    all_files = '/Users/cogsci-lasrlab1/Downloads/MFA_data/AP'\n",
    "    for root, dirs, files in os.walk(folder_path):\n",
    "        for file in files:\n",
    "            all_files.append(os.path.join(root, file))\n",
    "\n",
    "    # Initialize Charsiu forced aligner\n",
    "    charsiu = charsiu_forced_aligner(aligner='charsiu/en_w2v2_fc_10ms')\n",
    "\n",
    "    for input_file in all_files:\n",
    "        # Check if the file is an audio file\n",
    "        if input_file.lower().endswith(('.wav', '.mp3')):\n",
    "            # Generate output file paths based on the input file\n",
    "            file_name = os.path.splitext(os.path.basename(input_file))[0]\n",
    "            txt_file = os.path.join(output_folder, f'{file_name}.txt')\n",
    "            textgrid_file = os.path.join(output_folder, f'{file_name}.TextGrid')\n",
    "\n",
    "            # Get sampling rate from the audio file\n",
    "            _, sampling_rate = soundfile.read(input_file)\n",
    "\n",
    "            # Initialize Charsiu forced aligner with sampling rate\n",
    "            charsiu = charsiu_forced_aligner(sampling_rate=sampling_rate, aligner='charsiu/en_w2v2_fc_10ms')\n",
    "\n",
    "            # Read in text from the text file if it exists\n",
    "            if os.path.exists(txt_file):\n",
    "                with open(txt_file, 'r') as f:\n",
    "                    text = f.read()\n",
    "            else:\n",
    "                text = \"\"\n",
    "\n",
    "            # Perform forced alignment and save the output as a textgrid file\n",
    "            charsiu.serve(audio=input_file, text=text, save_to=textgrid_file)\n",
    "\n",
    "if __name__ == \"__main__\":\n",
    "    input_folder = '/Users/cogsci-lasrlab1/Desktop/LTEditedAudio_copy'  # Replace with the path to your input folder\n",
    "    output_folder = '/Users/cogsci-lasrlab1/Desktop/output_Charsiu_july'  # Replace with the path to your output folder\n",
    "\n",
    "    align_files_in_folder(input_folder, output_folder)\n"
   ]
  },
  {
   "cell_type": "code",
   "execution_count": 2,
   "id": "d158fd85-dd61-4a59-ad5a-7011348052c6",
   "metadata": {},
   "outputs": [
    {
     "name": "stdout",
     "output_type": "stream",
     "text": [
      "Collecting praatio\n",
      "  Downloading praatio-6.2.0-py3-none-any.whl.metadata (8.7 kB)\n",
      "Requirement already satisfied: typing-extensions in /opt/anaconda3/lib/python3.11/site-packages (from praatio) (4.9.0)\n",
      "Downloading praatio-6.2.0-py3-none-any.whl (80 kB)\n",
      "\u001b[2K   \u001b[90m━━━━━━━━━━━━━━━━━━━━━━━━━━━━━━━━━━━━━━━━\u001b[0m \u001b[32m80.0/80.0 kB\u001b[0m \u001b[31m5.9 MB/s\u001b[0m eta \u001b[36m0:00:00\u001b[0m\n",
      "\u001b[?25hInstalling collected packages: praatio\n",
      "Successfully installed praatio-6.2.0\n"
     ]
    }
   ],
   "source": [
    "!pip install praatio"
   ]
  },
  {
   "cell_type": "code",
   "execution_count": null,
   "id": "4212dd6a-5daa-476f-964e-24f98b7113e3",
   "metadata": {},
   "outputs": [],
   "source": []
  }
 ],
 "metadata": {
  "kernelspec": {
   "display_name": "Python 3 (ipykernel)",
   "language": "python",
   "name": "python3"
  },
  "language_info": {
   "codemirror_mode": {
    "name": "ipython",
    "version": 3
   },
   "file_extension": ".py",
   "mimetype": "text/x-python",
   "name": "python",
   "nbconvert_exporter": "python",
   "pygments_lexer": "ipython3",
   "version": "3.11.8"
  }
 },
 "nbformat": 4,
 "nbformat_minor": 5
}
